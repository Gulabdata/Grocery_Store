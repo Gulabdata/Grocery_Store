Item_Avail_Dict = {}
shopping_Dict = {}
#Introduction and Welcome Message


user_name = input("Please Enter Your Name:")
gender = input("Enter your gender (M/F)?: ").upper()
print("*"*35)


if gender.upper() == "M":
    welcome_msg = f"Welcome to My Grocery Store Mr. {user_name.upper()}"

elif gender.upper() == "F":
    welcome_msg = f"Welcome to My Grocery Store Ms. {user_name.upper()}"
else:
    print("Sorry, you entered wrong key, kindly press M or F")
    gender = input("Enter your gender (M/F)?: ")
    if gender.upper() == "M":
        welcome_msg = f"Welcome to My Grocery Store Mr. {user_name.upper()}"
    elif gender.upper() == "F":
        welcome_msg = f"Welcome to My Grocery Store Ms. {user_name.upper()}"
    
len_wm = len(welcome_msg)
print(welcome_msg)
print("*" * len_wm)

#Read Data from Text File
my_file = open('List.txt')
# file_str =my_file.read()
# print(file_str)
#file_line = my_file.readline()
#print(file_line)
Items_available = my_file.readlines()
#print(Items_available)
my_file.close()

#fetch items from list and add to a dictionary
print("**************** Items Available in Our Store with their Respective Price ***************")
for item in Items_available:
    parts = item.split()
    if len(parts) < 2:
        continue
    item_name = parts[0]  # First word as the name
    item_Price = parts[1]  # Second word as the price
    print(f"{item_name}: {item_Price}")  # Print formatted output
    Item_Avail_Dict.update({item_name: float(item_Price)})  # Add to dictionary
print("*"*50)

ask = input("Do you want to proceed with shopping(yes/no)? :")
while ask.lower() == "yes":
    item_add = input("Add an Items:").title()
    if item_add.title() in Item_Avail_Dict:
        item_qnty = int(input("Add Quantity:"))
        shopping_Dict.update({item_add:{"Quantity":item_qnty, "Subtotal":Item_Avail_Dict[item_add]*item_qnty}})
        print(shopping_Dict)
    else:
        print("Sorry, We don't have this items due to Unavailability")
    ask = input("Do you want to add more items (yes/no)? :")
   
else :
    print('\n\n')
    print("*********Bill Summary**********\n")
    print("Item   Quantity  SubTotal")
    total=0
    for key in shopping_Dict:
        print(f"{key}     {shopping_Dict[key]['Quantity']}      {shopping_Dict[key]['Subtotal']}")
        total = shopping_Dict[key]['Subtotal'] + total
    print(f"Total: {total}")
    print("********** Thank You ***********")
    print("Hope to see you back soon!\nThanks for coming")
