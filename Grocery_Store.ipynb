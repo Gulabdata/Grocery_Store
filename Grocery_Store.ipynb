{
 "cells": [
  {
   "cell_type": "code",
   "execution_count": 24,
   "id": "f5e7fbfb-b974-46ac-9773-ae268990d463",
   "metadata": {},
   "outputs": [
    {
     "name": "stdin",
     "output_type": "stream",
     "text": [
      "Please Enter Your Name: Gulab\n",
      "Enter your gender (M/F)?:  M\n"
     ]
    },
    {
     "name": "stdout",
     "output_type": "stream",
     "text": [
      "***********************************\n",
      "Welcome to My Grocery Store Mr. GULAB\n",
      "*************************************\n",
      "**************** Items Available in Our Store with their Respective Price ***************\n",
      "Soap: 25\n",
      "Toothpaste: 40\n",
      "Kiwi: 60\n",
      "Coconut_Water: 70\n",
      "Orange_juice: 40\n",
      "Coffee: 10\n",
      "Chips: 20\n",
      "Eggs: 15\n",
      "Chatt_Masala: 80\n",
      "Water: 20\n",
      "Apple: 150\n",
      "Patato: 20\n",
      "Rice: 80\n",
      "Milk: 60\n",
      "Tea: 150\n",
      "Wheat: 50\n",
      "Shampoo: 675\n",
      "Fortune_Oil: 155\n",
      "**************************************************\n"
     ]
    },
    {
     "name": "stdin",
     "output_type": "stream",
     "text": [
      "Do you want to proceed with shopping(yes/no)? : yes\n",
      "Add an Items: wheat\n",
      "Add Quantity: 2\n"
     ]
    },
    {
     "name": "stdout",
     "output_type": "stream",
     "text": [
      "{'Wheat': {'Quantity': 2, 'Subtotal': 100.0}}\n"
     ]
    },
    {
     "name": "stdin",
     "output_type": "stream",
     "text": [
      "Do you want to add more items (yes/no)? : yes\n",
      "Add an Items: rice\n",
      "Add Quantity: 2\n"
     ]
    },
    {
     "name": "stdout",
     "output_type": "stream",
     "text": [
      "{'Wheat': {'Quantity': 2, 'Subtotal': 100.0}, 'Rice': {'Quantity': 2, 'Subtotal': 160.0}}\n"
     ]
    },
    {
     "name": "stdin",
     "output_type": "stream",
     "text": [
      "Do you want to add more items (yes/no)? : yes\n",
      "Add an Items: milk\n",
      "Add Quantity: 2\n"
     ]
    },
    {
     "name": "stdout",
     "output_type": "stream",
     "text": [
      "{'Wheat': {'Quantity': 2, 'Subtotal': 100.0}, 'Rice': {'Quantity': 2, 'Subtotal': 160.0}, 'Milk': {'Quantity': 2, 'Subtotal': 120.0}}\n"
     ]
    },
    {
     "name": "stdin",
     "output_type": "stream",
     "text": [
      "Do you want to add more items (yes/no)? : no\n"
     ]
    },
    {
     "name": "stdout",
     "output_type": "stream",
     "text": [
      "\n",
      "\n",
      "\n",
      "*********Bill Summary**********\n",
      "\n",
      "Item   Quantity  SubTotal\n",
      "Wheat     2      100.0\n",
      "Rice     2      160.0\n",
      "Milk     2      120.0\n",
      "Total: 380.0\n",
      "********** Thank You ***********\n",
      "Hope to see you back soon!\n",
      "Thanks for coming\n"
     ]
    }
   ],
   "source": [
    "Item_Avail_Dict = {}\n",
    "shopping_Dict = {}\n",
    "#Introduction and Welcome Message\n",
    "\n",
    "\n",
    "user_name = input(\"Please Enter Your Name:\")\n",
    "gender = input(\"Enter your gender (M/F)?: \").upper()\n",
    "print(\"*\"*35)\n",
    "\n",
    "\n",
    "if gender.upper() == \"M\":\n",
    "    welcome_msg = f\"Welcome to My Grocery Store Mr. {user_name.upper()}\"\n",
    "\n",
    "elif gender.upper() == \"F\":\n",
    "    welcome_msg = f\"Welcome to My Grocery Store Ms. {user_name.upper()}\"\n",
    "else:\n",
    "    print(\"Sorry, you entered wrong key, kindly press M or F\")\n",
    "    gender = input(\"Enter your gender (M/F)?: \")\n",
    "    if gender.upper() == \"M\":\n",
    "        welcome_msg = f\"Welcome to My Grocery Store Mr. {user_name.upper()}\"\n",
    "    elif gender.upper() == \"F\":\n",
    "        welcome_msg = f\"Welcome to My Grocery Store Ms. {user_name.upper()}\"\n",
    "    \n",
    "len_wm = len(welcome_msg)\n",
    "print(welcome_msg)\n",
    "print(\"*\" * len_wm)\n",
    "\n",
    "#Read Data from Text File\n",
    "my_file = open('List.txt')\n",
    "# file_str =my_file.read()\n",
    "# print(file_str)\n",
    "#file_line = my_file.readline()\n",
    "#print(file_line)\n",
    "Items_available = my_file.readlines()\n",
    "#print(Items_available)\n",
    "my_file.close()\n",
    "\n",
    "#fetch items from list and add to a dictionary\n",
    "print(\"**************** Items Available in Our Store with their Respective Price ***************\")\n",
    "for item in Items_available:\n",
    "    parts = item.split()\n",
    "    if len(parts) < 2:\n",
    "        continue\n",
    "    item_name = parts[0]  # First word as the name\n",
    "    item_Price = parts[1]  # Second word as the price\n",
    "    print(f\"{item_name}: {item_Price}\")  # Print formatted output\n",
    "    Item_Avail_Dict.update({item_name: float(item_Price)})  # Add to dictionary\n",
    "print(\"*\"*50)\n",
    "\n",
    "ask = input(\"Do you want to proceed with shopping(yes/no)? :\")\n",
    "while ask.lower() == \"yes\":\n",
    "    item_add = input(\"Add an Items:\").title()\n",
    "    if item_add.title() in Item_Avail_Dict:\n",
    "        item_qnty = int(input(\"Add Quantity:\"))\n",
    "        shopping_Dict.update({item_add:{\"Quantity\":item_qnty, \"Subtotal\":Item_Avail_Dict[item_add]*item_qnty}})\n",
    "        print(shopping_Dict)\n",
    "    else:\n",
    "        print(\"Sorry, We don't have this items due to Unavailability\")\n",
    "    ask = input(\"Do you want to add more items (yes/no)? :\")\n",
    "   \n",
    "else :\n",
    "    print('\\n\\n')\n",
    "    print(\"*********Bill Summary**********\\n\")\n",
    "    print(\"Item   Quantity  SubTotal\")\n",
    "    total=0\n",
    "    for key in shopping_Dict:\n",
    "        print(f\"{key}     {shopping_Dict[key]['Quantity']}      {shopping_Dict[key]['Subtotal']}\")\n",
    "        total = shopping_Dict[key]['Subtotal'] + total\n",
    "    print(f\"Total: {total}\")\n",
    "    print(\"********** Thank You ***********\")\n",
    "    print(\"Hope to see you back soon!\\nThanks for coming\")"
   ]
  }
 ],
 "metadata": {
  "kernelspec": {
   "display_name": "Python 3 (ipykernel)",
   "language": "python",
   "name": "python3"
  },
  "language_info": {
   "codemirror_mode": {
    "name": "ipython",
    "version": 3
   },
   "file_extension": ".py",
   "mimetype": "text/x-python",
   "name": "python",
   "nbconvert_exporter": "python",
   "pygments_lexer": "ipython3",
   "version": "3.12.3"
  }
 },
 "nbformat": 4,
 "nbformat_minor": 5
}
